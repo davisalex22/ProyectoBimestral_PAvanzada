﻿{
  "metadata": {
    "name": "AvancePAvanzada",
    "kernelspec": {
      "language": "scala",
      "name": "spark2-scala"
    },
    "language_info": {
      "codemirror_mode": "text/x-scala",
      "file_extension": ".scala",
      "mimetype": "text/x-scala",
      "name": "scala",
      "pygments_lexer": "scala"
    }
  },
  "nbformat": 4,
  "nbformat_minor": 2,
  "cells": [
    {
      "cell_type": "code",
      "execution_count": 0,
      "metadata": {
        "autoscroll": "auto"
      },
      "outputs": [],
      "source": "import org.apache.spark.sql.types._\nimport org.apache.spark.sql.functions._\nval myDataSchema \u003d StructType(\n  Array(\n    StructField(\"id\",DecimalType(26, 0),true),\n    StructField(\"anio\",IntegerType,true),\n    StructField(\"mes\",IntegerType,true),\n    StructField(\"provincia\",IntegerType,true),\n    StructField(\"canton\",IntegerType,true),\n    StructField(\"area\",StringType,true),\n    StructField(\"genero\",StringType,true),\n    StructField(\"edad\",IntegerType,true),\n    StructField(\"estado_civil\",StringType,true),\n    StructField(\"nivel_de_instruccion\",StringType,true),\n    StructField(\"etnia\",StringType,true),\n    StructField(\"ingreso_laboral\",IntegerType,true),\n    StructField(\"condicion_actividad\",StringType,true),\n    StructField(\"sectorizacion\",StringType,true),\n    StructField(\"grupo_ocupacion\",StringType,true),\n    StructField(\"rama_actividad\",StringType,true),\n    StructField(\"factor_expansion\",DoubleType,true)\n  ));"
    },
    {
      "cell_type": "code",
      "execution_count": 1,
      "metadata": {
        "autoscroll": "auto"
      },
      "outputs": [],
      "source": "\nval data \u003d spark\n\t  .read\n\t  .option(\"inferSchema\",\"true\")\n\t  .option(\"header\",\"true\")\n\t  .option(\"delimiter\",\"\\t\")\n\t  .csv(\"/home/davisalex22/Datos_ENEMDU_PEA_v2.csv\")"
    },
    {
      "cell_type": "code",
      "execution_count": 2,
      "metadata": {
        "autoscroll": "auto"
      },
      "outputs": [],
      "source": "// Separacion de etnias\n\nval dataI \u003d data.where($\"etnia\" \u003d\u003d\u003d \"1 - Indígena\")\nval dataA \u003d data.where($\"etnia\" \u003d\u003d\u003d \"2 - Afroecuatoriano\")\nval dataN \u003d data.where($\"etnia\" \u003d\u003d\u003d \"3 - Negro\")\nval dataMu \u003d data.where($\"etnia\" \u003d\u003d\u003d \"4 - Mulato\")\nval dataMo \u003d data.where($\"etnia\" \u003d\u003d\u003d \"5 - Montubio\")\nval dataMe \u003d data.where($\"etnia\" \u003d\u003d\u003d \"6 - Mestizo\")\nval dataB \u003d data.where($\"etnia\" \u003d\u003d\u003d \"7 - Blanco\")\nval dataO \u003d data.where($\"etnia\" \u003d\u003d\u003d \"8 - Otro\")"
    },
    {
      "cell_type": "code",
      "execution_count": 3,
      "metadata": {
        "autoscroll": "auto"
      },
      "outputs": [],
      "source": "// Promedio de ingreso laboral en la columna etnias\n\ndataI.select(avg(\"ingreso_laboral\") as \"Sueldo promedio Indígena\").show\ndataA.select(avg(\"ingreso_laboral\")as \"Sueldo promedio Afroecuatoriano\").show\ndataN.select(avg(\"ingreso_laboral\")as \"Sueldo promedio Negra\").show\ndataMu.select(avg(\"ingreso_laboral\")as \"Sueldo promedio Mulato\").show\ndataMo.select(avg(\"ingreso_laboral\")as \"Sueldo promedio Montuvio\").show\ndataMe.select(avg(\"ingreso_laboral\")as \"Sueldo promedio Mestizo\").show\ndataB.select(avg(\"ingreso_laboral\")as \"Sueldo promedio Blanca\").show\ndataO.select(avg(\"ingreso_laboral\")as \"Sueldo promedio Otro\").show"
    },
    {
      "cell_type": "code",
      "execution_count": 4,
      "metadata": {
        "autoscroll": "auto"
      },
      "outputs": [],
      "source": "// Promedio de ingreso laboral en la columna etnias\n\ndataI.select(avg(\"ingreso_laboral\") as \"Sueldo promedio Indígena\").show\ndataA.select(avg(\"ingreso_laboral\")as \"Sueldo promedio Afroecuatoriano\").show\ndataN.select(avg(\"ingreso_laboral\")as \"Sueldo promedio Negra\").show\ndataMu.select(avg(\"ingreso_laboral\")as \"Sueldo promedio Mulato\").show\ndataMo.select(avg(\"ingreso_laboral\")as \"Sueldo promedio Montuvio\").show\ndataMe.select(avg(\"ingreso_laboral\")as \"Sueldo promedio Mestizo\").show\ndataB.select(avg(\"ingreso_laboral\")as \"Sueldo promedio Blanca\").show\ndataO.select(avg(\"ingreso_laboral\")as \"Sueldo promedio Otro\").show"
    },
    {
      "cell_type": "code",
      "execution_count": 5,
      "metadata": {
        "autoscroll": "auto"
      },
      "outputs": [],
      "source": "// Cuantas personas de etnia negra trabajan en condicion formal, informal, Empleo Domestico, No clasificado por sector\n\nval SFN \u003d dataN.where($\"sectorizacion\" \u003d\u003d\u003d \"1 - Sector Formal\")\nval SIN \u003d dataN.where($\"sectorizacion\" \u003d\u003d\u003d \"2 - Sector Informal\")\nval EDN \u003d dataN.where($\"sectorizacion\" \u003d\u003d\u003d \"3 - Empleo Doméstico\")\nval NCN \u003d dataN.where($\"sectorizacion\" \u003d\u003d\u003d \"4 - No Clasificados por Sector\")\n\nprintln(\"Etnia negra en Sector formal \"+ SFN.count)\nprintln(\"Etnia negra en Sector informal \"+ SIN.count)\nprintln(\"Etnia negra en Sector empleo domestico \"+ EDN.count)\nprintln(\"Etnia negra en No Clasificados por Sector \"+ NCN.count)"
    },
    {
      "cell_type": "code",
      "execution_count": 6,
      "metadata": {
        "autoscroll": "auto"
      },
      "outputs": [],
      "source": "// Cuantas personas de etnia Blancas trabajan en condicion forma, informal, Empleo Domestico, No clasificado por sector\n\nval SFB \u003d dataB.where($\"sectorizacion\" \u003d\u003d\u003d \"1 - Sector Formal\")\nval SIB \u003d dataB.where($\"sectorizacion\" \u003d\u003d\u003d \"2 - Sector Informal\")\nval EDB \u003d dataB.where($\"sectorizacion\" \u003d\u003d\u003d \"3 - Empleo Doméstico\")\nval NCB \u003d dataB.where($\"sectorizacion\" \u003d\u003d\u003d \"4 - No Clasificados por Sector\")\n\nprintln(\"Etnia blanca en Sector formal \"+ SFB.count)\nprintln(\"Etnia blanca en Sector informal \"+ SIB.count)\nprintln(\"Etnia blanca en Sector empleo domestico \"+ EDB.count)\nprintln(\"Etnia blanca en No Clasificados por Sector \"+ NCB.count)"
    },
    {
      "cell_type": "code",
      "execution_count": 7,
      "metadata": {
        "autoscroll": "auto"
      },
      "outputs": [],
      "source": "// Cuantas personas de etnia mestiza trabajan en condicion forma, informal, Empleo Domestico, No clasificado por sector\n\nval SFM \u003d dataMe.where($\"sectorizacion\" \u003d\u003d\u003d \"1 - Sector Formal\")\nval SIM \u003d dataMe.where($\"sectorizacion\" \u003d\u003d\u003d \"2 - Sector Informal\")\nval EDM \u003d dataMe.where($\"sectorizacion\" \u003d\u003d\u003d \"3 - Empleo Doméstico\")\nval NCM \u003d dataMe.where($\"sectorizacion\" \u003d\u003d\u003d \"4 - No Clasificados por Sector\")\n\nprintln(\"Etnia mestiza en Sector formal \"+ SFM.count)\nprintln(\"Etnia mestiza en Sector informal \"+ SIM.count)\nprintln(\"Etnia mestiza en Sector empleo domestico \"+ EDM.count)\nprintln(\"Etnia mestiza en No Clasificados por Sector \"+ NCM.count)"
    },
    {
      "cell_type": "raw",
      "metadata": {
        "format": "text/plain"
      },
      "source": "// Cuantas personas de etnia negra, blanca, mestiza tienen un nivel de instrucción superior universitario vs superior no universitario vs post grado\n\nval SUM \u003d dataMe.where($\"nivel_de_instruccion\" \u003d\u003d\u003d \"09 - Superior Universitario\")\nval SNUM \u003d dataMe.where($\"nivel_de_instruccion\" \u003d\u003d\u003d \"08 - Superior no universitario\")\nval PGM \u003d dataMe.where($\"nivel_de_instruccion\" \u003d\u003d\u003d \"10 - Post-grado\")\n\nprintln(f\"${(SUM.count / data.count.toDouble) * 100}%.2f%%Mestizos universitaria\\n${(SNUM.count / data.count.toDouble) * 100}%.2f%%Mestizos no universitario\\n${(PGM.count / data.count.toDouble) * 100}%.2f%%Mestizos post grado\")\n\nval SUB \u003d dataB.where($\"nivel_de_instruccion\" \u003d\u003d\u003d \"09 - Superior Universitario\")\nval SNUB \u003d dataB.where($\"nivel_de_instruccion\" \u003d\u003d\u003d \"08 - Superior no universitario\")\nval PGB \u003d dataB.where($\"nivel_de_instruccion\" \u003d\u003d\u003d \"10 - Post-grado\")\n\nprintln(f\"${(SUB.count / data.count.toDouble) * 100}%.2f%%Blancos universitaria\\n${(SNUB.count / data.count.toDouble) * 100}%.2f%%Blancos no universitario\\n${(PGB.count / data.count.toDouble) * 100}%.2f%%Blancos post grado\")\n\n\nval SUN \u003d dataN.where($\"nivel_de_instruccion\" \u003d\u003d\u003d \"09 - Superior Universitario\")\nval SNUN \u003d dataN.where($\"nivel_de_instruccion\" \u003d\u003d\u003d \"08 - Superior no universitario\")\nval PGN \u003d dataN.where($\"nivel_de_instruccion\" \u003d\u003d\u003d \"10 - Post-grado\")\n\nprintln(f\"${(SUN.count / data.count.toDouble) * 100}%.2f%%Etnia negra universitaria\\n${(SNUN.count / data.count.toDouble) * 100}%.2f%%Etnia negra no universitaria\\n${(PGN.count / data.count.toDouble) * 100}%.2f%%Etnia negra con post grado\")"
    },
    {
      "cell_type": "code",
      "execution_count": 9,
      "metadata": {
        "autoscroll": "auto"
      },
      "outputs": [],
      "source": "// Cual es el sueldo maxímo y minímo de una persona de etnia negra, blanca, mestiza con nivel de instruccion universitario, no universitaria, post grado \n\nSUM.select(min(\"ingreso_laboral\").as(\"minímo mestizos con educación superior\"), max(\"ingreso_laboral\").as(\"maxímo mestizos con educación superior\")).show\nSNUM.select(min(\"ingreso_laboral\").as(\"minímo mestizos con educación no superior\"), max(\"ingreso_laboral\").as(\"maxímo mestizos con educación no superior\")).show\nPGM.select(min(\"ingreso_laboral\").as(\"minímo mestizos con post grado\"), max(\"ingreso_laboral\").as(\"maxímo mestizos con post grado\")).show\n\nSUB.select(min(\"ingreso_laboral\").as(\"minímo blancos con educación superior\"), max(\"ingreso_laboral\").as(\"maxímo blancos con educación superior\")).show\nSNUB.select(min(\"ingreso_laboral\").as(\"minímo blancos con educación no superior\"), max(\"ingreso_laboral\").as(\"maxímo blancos con educación no superior\")).show\nPGB.select(min(\"ingreso_laboral\").as(\"minímo blancos con post grado\"), max(\"ingreso_laboral\").as(\"maxímo blancos con post grado\")).show\n\nSUN.select(min(\"ingreso_laboral\").as(\"minímo etnia negra con educación superior\"), max(\"ingreso_laboral\").as(\"maxímo etnia negra con educación superior\")).show\nSNUN.select(min(\"ingreso_laboral\").as(\"minímo etnia negra con educación no superior\"), max(\"ingreso_laboral\").as(\"maxímo etnia negra con educación no superior\")).show\nPGN.select(min(\"ingreso_laboral\").as(\"minímo etnia negra con post grado\"), max(\"ingreso_laboral\").as(\"maxímo etnia negra con post grado\")).show"
    },
    {
      "cell_type": "code",
      "execution_count": 10,
      "metadata": {
        "autoscroll": "auto"
      },
      "outputs": [],
      "source": "// Edades promedio de cada una de las etnias  ----------\n\ndataI.select(avg(\"edad\") as \"Edad promedio Indígena\").show\ndataA.select(avg(\"edad\") as \"Edad promedio Afroecuatoriano\").show\ndataN.select(avg(\"edad\") as \"Edad promedio Negro\").show\ndataMu.select(avg(\"edad\") as \"Edad promedio Mulato\").show\ndataMo.select(avg(\"edad\") as \"Edad promedio Montubio\").show\ndataMe.select(avg(\"edad\") as \"Edad promedio Mestizo\").show\ndataB.select(avg(\"edad\") as \"Edad promedio Blanco\").show\ndataO.select(avg(\"edad\") as \"Edad promedio Otros\").show"
    },
    {
      "cell_type": "code",
      "execution_count": 11,
      "metadata": {
        "autoscroll": "auto"
      },
      "outputs": [],
      "source": "// Porcentaje de personas de cada una de las etnias Etnias  ----------\n\nprintln(f\"${(dataI.count/data.count.toDouble)*100}%.2f%% Indígenas\\n${(dataA.count/data.count.toDouble)*100}%.2f%% Afroecuatoriano\\n${(dataN.count/data.count.toDouble)*100}%.2f%% Negro\\n${(dataMu.count/data.count.toDouble)*100}%.2f%% Mulato\\n${(dataMo.count/data.count.toDouble)*100}%.2f%% Montubio\\n${(dataMe.count/data.count.toDouble)*100}%.2f%% Mestizo\\n${(dataB.count/data.count.toDouble)*100}%.2f%% Blanco\\n${(dataO.count/data.count.toDouble)*100}%.2f%% Otro\")"
    },
    {
      "cell_type": "code",
      "execution_count": 12,
      "metadata": {
        "autoscroll": "auto"
      },
      "outputs": [],
      "source": "// Número de personas que tiene un empleo adecuado de etnia Mestiza, Blanco y Negra ----------\n\nval condMe \u003d dataMe.where($\"condicion_actividad\" \u003d\u003d\u003d \"1 - Empleo Adecuado/Pleno\").count\nval condB \u003d dataB.where($\"condicion_actividad\" \u003d\u003d\u003d \"1 - Empleo Adecuado/Pleno\").count\nval condN \u003d dataN.where($\"condicion_actividad\" \u003d\u003d\u003d \"1 - Empleo Adecuado/Pleno\").count\n\nprintln(\"Número de personas con Empleo adecuado de Mestizos: \"+ condMe+ \"\\nNúmero de personas con Empleo adecuado de Blancos: \"+condB+\"\\nNúmero de personas con Empleo adecuado de Negros: \"+condN)"
    },
    {
      "cell_type": "code",
      "execution_count": 13,
      "metadata": {
        "autoscroll": "auto"
      },
      "outputs": [],
      "source": "// Porcentaje de personas de Loja que son Mestizos, Blanco y Negro ----------\n\nval cantTotal \u003d data.where($\"provincia\" \u003d\u003d\u003d \"11\")\nval cantMe \u003d dataMe.where($\"provincia\" \u003d\u003d\u003d \"11\")\nval cantB \u003d dataB.where($\"provincia\" \u003d\u003d\u003d \"11\")\nval cantN \u003d dataN.where($\"provincia\" \u003d\u003d\u003d \"11\")\nprintln(f\"${(cantMe.count*100)/cantTotal.count.toDouble}%.2f%% Mestizos\\n\"+ f\"${(cantB.count*100)/cantTotal.count.toDouble}%.2f%% Blancos\\n\"+f\"${(cantN.count*100)/cantTotal.count.toDouble}%.2f%% Negros\")"
    },
    {
      "cell_type": "code",
      "execution_count": 14,
      "metadata": {
        "autoscroll": "auto"
      },
      "outputs": [],
      "source": "val dataMe \u003d data.where($\"genero\" \u003d\u003d\u003d \"2 - Mujer\" \u0026\u0026 $\"etnia\" \u003d\u003d\u003d \"6 - Mestizo\")\nval dataHe \u003d data.where($\"genero\" \u003d\u003d\u003d \"1 - Hombre\" \u0026\u0026 $\"etnia\" \u003d\u003d\u003d \"6 - Mestizo\")\nval dataMa \u003d data.where($\"genero\" \u003d\u003d\u003d \"2 - Mujer\" \u0026\u0026 $\"etnia\" \u003d\u003d\u003d \"2 - Afroecuatoriano\")\nval dataHa \u003d data.where($\"genero\" \u003d\u003d\u003d \"1 - Hombre\" \u0026\u0026 $\"etnia\" \u003d\u003d\u003d \"2 - Afroecuatoriano\")\nprintln(\"Existen \"+ dataHe.count + \" mujeres mestizas\")\nprintln(\"Existen \"+ dataMe.count + \" hombres mestizos\")\nprintln(\"Existen \"+ dataHa.count + \" hombres afroecuatorianos\")\nprintln(\"Existen \"+ dataMa.count + \" mujeres afroecuatorianas\")"
    },
    {
      "cell_type": "code",
      "execution_count": 15,
      "metadata": {
        "autoscroll": "auto"
      },
      "outputs": [],
      "source": "dataMe.where($\"sectorizacion\" \u003d\u003d\u003d \"3 - Empleo Doméstico\").select(max(\"ingreso_laboral\").as(\"Máximo sueldo de una empleada domestica mestiza\")).show\ndataMa.where($\"sectorizacion\" \u003d\u003d\u003d \"3 - Empleo Doméstico\").select(max(\"ingreso_laboral\").as(\"Máximo sueldo de una empleada domestica afroecuatorina\")).show"
    },
    {
      "cell_type": "code",
      "execution_count": 16,
      "metadata": {
        "autoscroll": "auto"
      },
      "outputs": [],
      "source": "data\n   .where($\"rama_actividad\" \u003d\u003d\u003d \"06 - F. Construcción\")\n   .groupBy(\"etnia\")\n   .agg(count(\"*\").as(\"Cantidad de personas\"))\n   .orderBy(desc(\"Cantidad de personas\"))\n   .show()"
    },
    {
      "cell_type": "code",
      "execution_count": 17,
      "metadata": {
        "autoscroll": "auto"
      },
      "outputs": [],
      "source": "data\n   .where($\"area\" \u003d\u003d\u003d \"2 - Rural\" \u0026\u0026 $\"nivel_de_instruccion\" \u003d\u003d\u003d \"09 - Superior Universitario\")\n   .groupBy(\"etnia\")\n   .agg(count(\"*\").as(\"Area Rural\"))\n   .orderBy(desc(\"Area Rural\"))\n   .show()"
    }
  ]
}