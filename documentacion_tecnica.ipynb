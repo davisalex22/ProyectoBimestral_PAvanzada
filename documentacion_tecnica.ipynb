﻿{
  "metadata": {
    "name": "Documentacion_Tecnica",
     "kernelspec": {
		                "display_name": "Scala",
      "language": "scala",
      "name": "spark2-scala"
    },
    "language_info": {
      "codemirror_mode": "text/x-scala",
      "file_extension": ".scala",
      "mimetype": "text/x-scala",
      "name": "scala",
      "pygments_lexer": "scala"
    }
  },
  "nbformat": 4,
  "nbformat_minor": 2,
  "cells": [
    {
      "cell_type": "code",
      "execution_count": 0,
      "metadata": {
        "autoscroll": "auto"
      },
      "outputs": [],
      "source": "import org.apache.spark.sql.types._\nimport org.apache.spark.sql.functions._\nval myDataSchema \u003d StructType(\n  Array(\n    StructField(\"id\",DecimalType(26, 0),true),\n    StructField(\"anio\",IntegerType,true),\n    StructField(\"mes\",IntegerType,true),\n    StructField(\"provincia\",IntegerType,true),\n    StructField(\"canton\",IntegerType,true),\n    StructField(\"area\",StringType,true),\n    StructField(\"genero\",StringType,true),\n    StructField(\"edad\",IntegerType,true),\n    StructField(\"estado_civil\",StringType,true),\n    StructField(\"nivel_de_instruccion\",StringType,true),\n    StructField(\"etnia\",StringType,true),\n    StructField(\"ingreso_laboral\",IntegerType,true),\n    StructField(\"condicion_actividad\",StringType,true),\n    StructField(\"sectorizacion\",StringType,true),\n    StructField(\"grupo_ocupacion\",StringType,true),\n    StructField(\"rama_actividad\",StringType,true),\n    StructField(\"factor_expansion\",DoubleType,true)\n  ));"
    },
    {
      "cell_type": "code",
      "execution_count": 1,
      "metadata": {
        "autoscroll": "auto"
      },
      "outputs": [],
      "source": "val data \u003d spark\n\t  .read\n\t  .option(\"inferSchema\",\"true\")\n\t  .option(\"header\",\"true\")\n\t  .option(\"delimiter\",\"\\t\")\n\t  .csv(\"/home/davisalex22/Programacion/Datos_ENEMDU_PEA_v2.csv\")"
    },
    {
      "cell_type": "raw",
      "metadata": {
        "format": "text/plain"
      },
      "source": "%mariadb\nUSE PAvanzada_Enemdu"
    },
    {
      "cell_type": "markdown",
      "metadata": {},
      "source": "\u003cH1 align\u003d\"center\"\u003eAnálisis Exploratorio de Datos ENEMDU\u003c/H1\u003e\n\u003cH2\u003eDocumentación Técnica\u003c/H2\u003e"
    },
    {
      "cell_type": "markdown",
      "metadata": {},
      "source": "En esta consulta procedemos a utilizar la función crosstab, función interesante en spark, ya que el método crosstab permite solo el conteo con los atributos que nosotros proporcionariamos ocacionando un nuevo dataFrame, también nos encontramos con un orderBy el cual nos ayuda a ordenar de mejor manera el método crosstab. Y al final lo mostramos con z.show el cual es un método de zeppelin para presentar nuestras consultas de una manera más dinámica un gráfico estadístico. \n"
    },
    {
      "cell_type": "code",
      "execution_count": 5,
      "metadata": {
        "autoscroll": "auto"
      },
      "outputs": [],
      "source": "z.show(data.stat.crosstab(\"condicion_actividad\", \"anio\")\n           .orderBy(\"condicion_actividad_anio\"))"
    },
    {
      "cell_type": "markdown",
      "metadata": {},
      "source": "En esta consulta primero realizamos un where el cual delimito la dataframe, en este caso lo delimitamos con la etnia Afroecuatoriano, en el cual hacemos un groupBy el cual agrupa con la columna nivel_instruccion, el cual los cuenta todos los datos que son iguales dentro de la columna y al final ordenamos con un groupBy. Y al final lo mostramos con z.show el cual es un método de zeppelin para presentar nuestras consultas de una manera más dinámica un gráfico estadístico"
    },
    {
      "cell_type": "code",
      "execution_count": 7,
      "metadata": {
        "autoscroll": "auto"
      },
      "outputs": [],
      "source": "z.show(data.where($\"etnia\" \u003d\u003d\u003d \"2 - Afroecuatoriano\")\n           .groupBy(\"nivel_de_instruccion\")\n           .count()\n           .orderBy(\"nivel_de_instruccion\"))"
    },
    {
      "cell_type": "markdown",
      "metadata": {},
      "source": "En esta consulta  usamos un where delimitanto las etnias a solo etnias afroecuatorianas,luego agrupamos la columna nivel_instruccion y realizamos un pivot, el métod pivot nos brinda gran cantidad de operaciones que necesitemos dentro de nuestra consulta (count, avg, round, min, max, etc). utlizamos un pivot con la columna genero que conjuntamente con la funcion avg permite sacar el promedio de sueldos de los generos afroecuatorianos y así ordenandolos con un orderBy. Y al final lo mostramos con z.show el cual es un método de zeppelin para presentar nuestras consultas de una manera más dinámica un gráfico estadístico"
    },
    {
      "cell_type": "code",
      "execution_count": 9,
      "metadata": {
        "autoscroll": "auto"
      },
      "outputs": [],
      "source": "z.show(data.where($\"etnia\" \u003d\u003d\u003d \"2 - Afroecuatoriano\")\n           .groupBy(\"nivel_de_instruccion\")\n           .pivot(\"genero\")\n           .avg(\"ingreso_laboral\")\n           .orderBy(\"nivel_de_instruccion\"))"
    },
    {
      "cell_type": "markdown",
      "metadata": {},
      "source": " \nEsta consulta sirve para sacar el sueldo promedio de generos de las etnias afroecuatorianas, la consulta es posible gracias a un where, el cual delimita a etnias afroecuatorianas, luego agrupa cada anio  con la función groupBy y conjuntamente con la funcion pivot permite sacar el sueldo promedio por medio del método avg que está dentro de las funciones del pivot, luego de ello se ordena por anio gracias a la funcion orderBy. Y al final lo mostramos con z.show el cual es un método de zeppelin para presentar nuestras consultas de una manera más dinámica un gráfico estadístico."
    },
    {
      "cell_type": "code",
      "execution_count": 11,
      "metadata": {
        "autoscroll": "auto"
      },
      "outputs": [],
      "source": "z.show(data.where($\"etnia\" \u003d\u003d\u003d \"2 - Afroecuatoriano\")\n           .groupBy(\"anio\")\n           .pivot(\"genero\")\n           .agg(round(avg(\"ingreso_laboral\")))\n           .orderBy(\"anio\"))"
    },
    {
      "cell_type": "markdown",
      "metadata": {},
      "source": "Esta consulta permite visualizar las ocupaciones más destacadas de la etnia afroecuatoriana, esto es posible gracias a la delimitación de la data con una función where que limita que solo me muestre a etnias afroecuatorianas que no tengan un grupo ocupación nulo, luego de ello lo agrupamos con groupBy y hacemos un conteo por género, para finalmente ordenarlos por grupo_ocupacion, realizada con la función orderBy. Y al final lo mostramos con z.show el cual es un método de zeppelin para presentar nuestras consultas de una manera más dinámica un gráfico estadístico"
    },
    {
      "cell_type": "code",
      "execution_count": 13,
      "metadata": {
        "autoscroll": "auto"
      },
      "outputs": [],
      "source": "z.show(data.where($\"etnia\" \u003d\u003d\u003d \"2 - Afroecuatoriano\" \u0026\u0026 $\"grupo_ocupacion\".isNotNull)\n           .groupBy(\"grupo_ocupacion\")\n           .pivot(\"genero\")\n           .count()\n           .orderBy(\"grupo_ocupacion\"))"
    },
    {
      "cell_type": "markdown",
      "metadata": {},
      "source": "Primeramente al querer efectuar está consulta utilizamos sentencias sql con consultas nativas (ANSI-SQL), el cual seleccionamos la etnia, a la vez contamos cuantos son de la misma etnia y el sueldo promedio de esas etnias, luego le decimos que la obtenga de la tabla personas, luego lo unimos con join con la tabla etnias que cod_canton de etnias sea igual al de cod_canton de la tabla personas. Donde le decimos que delimite a las personas con un ingreso mayor a 400 dólares, todo esto con un where. Y que los agrupe por las etnias con un groupBy y al final que los orderne con un orderBy con la tercera columna de nuestra consulta."
    },
    {
      "cell_type": "raw",
      "metadata": {
        "format": "text/plain"
      },
      "source": "%mariadb\nSELECT etnia, COUNT(*) AS \"Personas que superan el salario básico\", ROUND(AVG(ingresos)) AS \"Salario promedio\"\nFROM Personas p\nJOIN etnias e ON p.cod_etnia \u003d e.cod_etnia\nWHERE p.ingresos \u003e 400\nGROUP BY etnia\nORDER BY 3 DESC;"
    },
    {
      "cell_type": "markdown",
      "metadata": {},
      "source": "En la siguiente consulta se procedió primero a realizar la agrupación de las etnias con el groupBy, y seguido se crea un pivote de genero por la ventaja que nos permite realizar mas operaciones, el cual conjuntamente con el count el cual va contando y nos dará el número de personas clasificada por hombres y mujeres de cada una de las etnias. Finalmente para que se presenten ordenas se le aplica el orderBy y se le especifica en base que columna en este caso las etnias. Y para su visualización se implemente el z.show que en este caso se lo presenta con la gráfica de frecuencias."
    },
    {
      "cell_type": "code",
      "execution_count": 17,
      "metadata": {
        "autoscroll": "auto"
      },
      "outputs": [],
      "source": "z.show(data.groupBy(\"etnia\")\n           .pivot(\"genero\")\n           .count\n           .orderBy(\"etnia\"))"
    },
    {
      "cell_type": "markdown",
      "metadata": {},
      "source": "En la siguiente consulta se realizó nuevamente la agrupación de las etnias con el groupBy y de igual forma el pivote de género, en la cual se toma las edades con el .agg se le calcula el promedio con el avg, la cual nos da en decimales, pero al momento de aplicarle el round se lo redondea y se lo castea a Integer para que nos de la edad promedio exacta de cada personas (hombres y mujeres) de cada etnia."
    },
    {
      "cell_type": "code",
      "execution_count": 19,
      "metadata": {
        "autoscroll": "auto"
      },
      "outputs": [],
      "source": "z.show(data.groupBy(\"etnia\")\n           .pivot(\"genero\")\n           .agg(round(avg(\"edad\")).cast(IntegerType))\n           .orderBy(\"etnia\"))"
    },
    {
      "cell_type": "markdown",
      "metadata": {},
      "source": " \nPara las siguientes representaciones se aplicó la misma consulta pero con diferente reprentación, la cual antes de su realización se excluyo los nulos con el isNotNull ya que se encontraban registros que no tenian en los datos de sectorización, seguido se agrupó la sectorización con el groupBy y presentar cada uno de los tipo de datos de esta columna, seguido con el empleo de un pivote de los años la cual nos permite realizar el conteo de los registros de cada año con el .count y se los ordena por el tipo de sectorizacion con el orderBy. Finalmente con el z.show se muestra el conteo de las personas que trabajan en cada uno de los años depende el tipo de trabajo, es decir de la sectorización, la cual en este caso se la presentó en tabla y en barras."
    },
    {
      "cell_type": "code",
      "execution_count": 21,
      "metadata": {
        "autoscroll": "auto"
      },
      "outputs": [],
      "source": "z.show(data.where($\"sectorizacion\".isNotNull)\n           .groupBy(\"sectorizacion\")\n           .pivot(\"anio\")\n           .count\n           .orderBy(\"sectorizacion\"))"
    },
    {
      "cell_type": "code",
      "execution_count": 22,
      "metadata": {
        "autoscroll": "auto"
      },
      "outputs": [],
      "source": "z.show(data.where($\"sectorizacion\".isNotNull)\n            .groupBy(\"sectorizacion\")\n           .pivot(\"anio\")\n           .count\n           .orderBy(\"sectorizacion\"))"
    },
    {
      "cell_type": "markdown",
      "metadata": {},
      "source": "En la presente consulta se agrupo nuevamente con el groupBy de la sectorización pero excluyendo los nulos con el empleo del .isNotNull, se utilizó un pivote de los años y así poder realizar el .agg para agregar del promedio de los ingresos laborales con el uso del avg, en este caso se los ordenó con el orderBy de sectorización. De esta forma con el z.show se presenta la gráfica en tabla que nos refleja el promedio del ingreso laboraral.\n"
    },
    {
      "cell_type": "code",
      "execution_count": 24,
      "metadata": {
        "autoscroll": "auto"
      },
      "outputs": [],
      "source": "z.show(data.where($\"sectorizacion\".isNotNull)\n           .groupBy(\"sectorizacion\")\n           .pivot(\"anio\")\n           .agg(round(avg(\"ingreso_laboral\")))\n           .orderBy(\"sectorizacion\"))"
    },
    {
      "cell_type": "markdown",
      "metadata": {},
      "source": " \nPara la siguiente consulta se filtró primeramente los registro correspondientes al empleo doméstico con el data.where y se crea la igualadad con la sectorización, luego se procede a agrupar por cada una de las etnias y se creo un pivote del género y reflejar la cantidad hombres y mujeres con la ayuda del .count que nos cuenta la cantidad de registro y se los ordena por etnia con el orderBy."
    },
    {
      "cell_type": "code",
      "execution_count": 26,
      "metadata": {
        "autoscroll": "auto"
      },
      "outputs": [],
      "source": "z.show(data.where($\"sectorizacion\" \u003d\u003d\u003d \"3 - Empleo Doméstico\")\n           .groupBy(\"etnia\")\n           .pivot(\"genero\")\n           .count\n           .orderBy(\"etnia\"))"
    },
    {
      "cell_type": "markdown",
      "metadata": {},
      "source": "Para la siguiente consulta sql la realizó de la siguiente forma: con el SELECT se colocó las provincias y el conteo la cual nos presentará con un alias de persoans con empleo doméstico. Con el FROM se apunta a provincias la cual vamos a ocupar. Para llegar a cada una de las tablas que se necesita se emplea el JOIN, primero de cantones en donde se usa el cod_provincia y relacionar las provincias y los cantones, luego de ello para personas se relaciona con el cod_canton de cantones y la tabla personas, con la sentencia WHERE se ubica a todas aquellas personas con empleo doméstico. Y finalmente se los agrupa por provincia ordenando por la cantidad de personas.\n "
    },
    {
      "cell_type": "raw",
      "metadata": {
        "format": "text/plain"
      },
      "source": "%mariadb\nSELECT provincia , COUNT(*) AS \"Personas con empleo doméstico\"\nFROM Provincias p \nJOIN Cantones c ON p.cod_provincia \u003d c.cod_provincia\nJOIN Personas pe ON c.cod_canton \u003d pe.cod_canton\nWHERE Sectorizacion \u003d \"empleo doméstico\"\nGROUP BY Provincia\nORDER BY 2 DESC;"
    },
    {
      "cell_type": "markdown",
      "metadata": {},
      "source": "A continuación, se muestra gráficamente la cantidad de personas de cada etnia que se dedicaron durante los años 2015-2019 a la construcción, para obtener esta consulta se utilizó la data general, con una cláusula where en el cual se especifica la rama de construcción, seguido de un groupBy para agrupar por etnia, un pivot de anio para agrupar datos procedentes de otra tabla y finalmente un conteo (count) y ordenado por etnia (orderBy)."
    },
    {
      "cell_type": "code",
      "execution_count": 30,
      "metadata": {
        "autoscroll": "auto"
      },
      "outputs": [],
      "source": "z.show(data.where($\"rama_actividad\" \u003d\u003d\u003d \"06 - F. Construcción\")\n           .groupBy(\"etnia\")\n           .pivot(\"anio\")\n           .count\n           .orderBy(\"etnia\"))"
    },
    {
      "cell_type": "markdown",
      "metadata": {},
      "source": "En la siguiente consulta primero se establece una cláusula where para especificar la etnia Mestizo y Montubio,seguidamente una agrupacion por etnia con un groupBy haciendo un pivote de genero para agrupar los datos procedentes de otra tabla y posteriormente se realiza un conteo (count) y un ordenamiento (orderBy) por etnia."
    },
    {
      "cell_type": "code",
      "execution_count": 32,
      "metadata": {
        "autoscroll": "auto"
      },
      "outputs": [],
      "source": "z.show(data.where($\"etnia\" \u003d\u003d\u003d \"6 - Mestizo\" || $\"etnia\" \u003d\u003d\u003d \"5 - Montubio\")\n            .groupBy(\"etnia\")\n            .pivot(\"genero\")\n            .count.orderBy(\"etnia\"))"
    },
    {
      "cell_type": "markdown",
      "metadata": {},
      "source": "En la siguiente consulta primero se establece una cláusula where para especificar la area rural y el nivel de instrucción superior universitario,seguidamente una agrupacion por etnia con un groupBy y posteriormente se realiza un conteo (count) y un ordenamiento (orderBy) por etnia. Además de usar z.show que es un contenedor de todo el sistema para funciones de utilidad comunes y datos específicos del usuario e implementa funciones para la entrada de datos, visualización de datos."
    },
    {
      "cell_type": "code",
      "execution_count": 34,
      "metadata": {
        "autoscroll": "auto"
      },
      "outputs": [],
      "source": "z.show(data.where($\"area\" \u003d\u003d\u003d \"2 - Rural\" \u0026\u0026 $\"nivel_de_instruccion\" \u003d\u003d\u003d \"09 - Superior Universitario\")\n           .groupBy(\"etnia\")\n           .count\n           .orderBy(\"etnia\"))"
    },
    {
      "cell_type": "markdown",
      "metadata": {},
      "source": "Para la siguiente consulta sql utilizando mariadb se realizó de la siguiente forma: con el SELECT se selecciona la etnia y se reliza un conteo de personas que pertenecen al área urbana asignando un alias de \"Total Área Urbana\". Con el FROM se señala a la tabla personas y para llegar a cada una de las tablas que se necesita se emplear el JOIN, primero al cod_etnia de personas luego al cod_etnia de etnias. Finalmente se los agrupa por etnia y ordena por el el total área urbana.\n"
    },
    {
      "cell_type": "raw",
      "metadata": {
        "format": "text/plain"
      },
      "source": "%mariadb\nSELECT etnia, COUNT(*) AS \"Total Área Urbana\"\nFROM Personas p\nJOIN etnias e ON p.cod_etnia \u003d e.cod_etnia\nWHERE p.area \u003d \"U\"\nGROUP BY etnia\nORDER BY 2;"
    },
    {
      "cell_type": "code",
      "execution_count": 37,
      "metadata": {
        "autoscroll": "auto"
      },
      "outputs": [],
      "source": "val dataCantones \u003d spark\n\t  .read\n\t  .option(\"inferSchema\",\"true\")\n\t  .option(\"header\",\"true\")\n\t  .option(\"delimiter\",\",\")\n\t  .csv(\"/home/davisalex22/Programacion/cantonesEcuador.csv\")"
    },
    {
      "cell_type": "markdown",
      "metadata": {},
      "source": "Para esta consulta previamente se realizo la lectura del csv denominado dataCantones que contiene una columna codCanton y nombreCanton, luego de ello se declaró una variable dataCanton, en el cual se aplica un join que sirve para la unión interna de tablas básicamente, luego dentro de un z.show usando la dataCanton se utiliza la cláusula where para especificar la provincia 24 (Santa Elena),luego se agrupa por etnia (groupBy), seguidamente un pivot de nombreCanton,un conte de las personas (count) y un ordenamiento por etnia (orderBy)."
    },
    {
      "cell_type": "code",
      "execution_count": 39,
      "metadata": {
        "autoscroll": "auto"
      },
      "outputs": [],
      "source": "val dataCanton \u003d data.join(dataCantones,data(\"canton\") \u003d\u003d\u003d dataCantones(\"codigoCanton\"),\"inner\")\nz.show(dataCanton.where($\"provincia\" \u003d\u003d\u003d 24).groupBy($\"etnia\").pivot(\"nombreCanton\").count.orderBy(\"etnia\"))"
    },
    {
      "cell_type": "markdown",
      "metadata": {},
      "source": "Para la siguiente consulta sql utilizando mariadb se realizó de la siguiente forma: con el SELECT se selecciona la rama actividad y se calcula el promedio de ingresos realizando un redondeo y asignando un alias de \"Sueldo Promedio\". Con el FROM se señala a la tabla personas y para llegar a cada una de las tablas que se necesita se emplear el JOIN, primero al cod_rama de personas luego al cod_rama de Ramas_Actividad. Finalmente se los agrupa por rama y ordena por el sueldo promedio."
    },
    {
      "cell_type": "raw",
      "metadata": {
        "format": "text/plain"
      },
      "source": "%mariadb\nSELECT rama, ROUND(AVG(ingresos)) AS \"Sueldo Promedio\"\nFROM Personas p\nJOIN Ramas_Actividad r ON p.cod_rama \u003d r.cod_rama\nGROUP BY rama\nORDER BY 2 DESC;"
    },
    {
      "cell_type": "raw",
      "metadata": {
        "format": "text/plain"
      },
      "source": "%mariadb\n"
    }
  ]
}