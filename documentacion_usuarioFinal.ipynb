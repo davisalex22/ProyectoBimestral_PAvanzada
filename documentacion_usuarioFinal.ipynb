﻿{
  "metadata": {
    "name": "Documentacion_UsuarioFinal",
     "kernelspec": {
		                "display_name": "Scala",
      "language": "scala",
      "name": "spark2-scala"
    },
    "language_info": {
      "codemirror_mode": "text/x-scala",
      "file_extension": ".scala",
      "mimetype": "text/x-scala",
      "name": "scala",
      "pygments_lexer": "scala"
    }
  },
  "nbformat": 4,
  "nbformat_minor": 2,
  "cells": [
    {
      "cell_type": "code",
      "execution_count": 0,
      "metadata": {
        "autoscroll": "auto"
      },
      "outputs": [],
      "source": "import org.apache.spark.sql.types._\nimport org.apache.spark.sql.functions._\nval myDataSchema \u003d StructType(\n  Array(\n    StructField(\"id\",DecimalType(26, 0),true),\n    StructField(\"anio\",IntegerType,true),\n    StructField(\"mes\",IntegerType,true),\n    StructField(\"provincia\",IntegerType,true),\n    StructField(\"canton\",IntegerType,true),\n    StructField(\"area\",StringType,true),\n    StructField(\"genero\",StringType,true),\n    StructField(\"edad\",IntegerType,true),\n    StructField(\"estado_civil\",StringType,true),\n    StructField(\"nivel_de_instruccion\",StringType,true),\n    StructField(\"etnia\",StringType,true),\n    StructField(\"ingreso_laboral\",IntegerType,true),\n    StructField(\"condicion_actividad\",StringType,true),\n    StructField(\"sectorizacion\",StringType,true),\n    StructField(\"grupo_ocupacion\",StringType,true),\n    StructField(\"rama_actividad\",StringType,true),\n    StructField(\"factor_expansion\",DoubleType,true)\n  ));"
    },
    {
      "cell_type": "code",
      "execution_count": 1,
      "metadata": {
        "autoscroll": "auto"
      },
      "outputs": [],
      "source": "val data \u003d spark\n\t  .read\n\t  .option(\"inferSchema\",\"true\")\n\t  .option(\"header\",\"true\")\n\t  .option(\"delimiter\",\"\\t\")\n\t  .csv(\"/home/davisalex22/Programacion/Datos_ENEMDU_PEA_v2.csv\")"
    },
    {
      "cell_type": "raw",
      "metadata": {
        "format": "text/plain"
      },
      "source": "%mariadb\nUSE PAvanzada_Enemdu"
    },
    {
      "cell_type": "markdown",
      "metadata": {},
      "source": "\u003cH1 align\u003d\"center\"\u003eAnálisis Exploratorio de Datos ENEMDU\u003c/H1\u003e\n\u003cH2\u003eDocumentación UsuarioFinal\u003c/H2\u003e"
    },
    {
      "cell_type": "markdown",
      "metadata": {},
      "source": "Basados en las consultas anteriores realizadas dentro de la materia de programación avanzada, dentro de la data, nos quisimos concentrar en una minoría, ya que es interesante a nivel conceptual de cómo viven las minorías étnicas dentro de nuestro país, en este caso nos concentramos en la etnia afroecuatoriana. El tema del empleo en Ecuador siempre ha sido un tema que nuestro país lucha día con día, de acuerdo con la página Ecuador en cifras. En la gráfica se presenta que desde el año 2015 al 2019, el nivel de empleo adecuado ha ido disminuyendo a lo largo de los años, esto nos indica que el gobierno no ha brindado oportunidades para tener un empleo pleno, con sus respectivos beneficios que brinda el gobierno ecuatoriano. Debiendo tener empleos con insuficiencia de tiempo e ingresos u que optando por dos o más empleos para satisfacer las necesidades básicas de él y su familia."
    },
    {
      "cell_type": "code",
      "execution_count": 5,
      "metadata": {
        "autoscroll": "auto"
      },
      "outputs": [],
      "source": "z.show(data.stat.crosstab(\"condicion_actividad\", \"anio\").orderBy(\"condicion_actividad_anio\"))"
    },
    {
      "cell_type": "markdown",
      "metadata": {},
      "source": "Sabiendo lo anterior mencionado, es destacable mencionar el nivel de instrucción que recibió cada una de estas personas. Lo cual mediante la interpretación de la gráfica podemos decir que la mayoría de personas afroecuatorianas recibió una educación primaria o secundaria. Primaria con un 30% y Secundaria con un 36%. Esto nos dice que la educación que recibieron estas personas no puede ser acorde a las necesidades de conocimiento que requiere un ser humano, ya que personas afroecuatorianas que lograron ir a la universidad son un 14% dentro de los participantes y aún más alarmante tener un 1% de personas que lograron tener un postgrado. Ecuador puede decir que tiene personas afroecuatorianas que en su mayoría tiene un nivel de educación primaria, secundaria. No dando esfuerzos y oportunidades a personas con minoría étnica puedan tener un nivel de educación superior.\n"
    },
    {
      "cell_type": "code",
      "execution_count": 7,
      "metadata": {
        "autoscroll": "auto"
      },
      "outputs": [],
      "source": "z.show(data.where($\"etnia\" \u003d\u003d\u003d \"2 - Afroecuatoriano\")\n           .groupBy(\"nivel_de_instruccion\")\n           .count()\n           .orderBy(\"nivel_de_instruccion\"))"
    },
    {
      "cell_type": "markdown",
      "metadata": {},
      "source": "El machismo en Ecuador es un tema que acoteja a las mujeres ecuatorianas, en el caso de mujeres afroecuatorianas. Se puede ver reflejado en el sueldo promedio que tienen de acuerdo con su nivel de instrucción. Lo cual en la gráfica se puede observar una clara desigualdad de sueldos. Teniendo una desigualdad de entre 50 hasta 120 dólares aproximadamente, este tema debemos trabajar para que Ecuador tenga las mismas obligaciones y derechos para hombres y mujeres afroecuatorianos y tener un país igualitario."
    },
    {
      "cell_type": "code",
      "execution_count": 9,
      "metadata": {
        "autoscroll": "auto"
      },
      "outputs": [],
      "source": "z.show(data.where($\"etnia\" \u003d\u003d\u003d \"2 - Afroecuatoriano\").groupBy(\"nivel_de_instruccion\").pivot(\"genero\").avg(\"ingreso_laboral\").orderBy(\"nivel_de_instruccion\"))"
    },
    {
      "cell_type": "markdown",
      "metadata": {},
      "source": " \nRefutando el punto anterior se puede ver que el sueldo promedio por año para hombres y mujeres afroecuatorianos se puede establecer una clara desigualdad en cuanto a cantidad de sueldo promedio por año."
    },
    {
      "cell_type": "code",
      "execution_count": 11,
      "metadata": {
        "autoscroll": "auto"
      },
      "outputs": [],
      "source": "z.show(data.where($\"etnia\" \u003d\u003d\u003d \"2 - Afroecuatoriano\")\n       .groupBy(\"anio\").pivot(\"genero\")\n       .agg(round(avg(\"ingreso_laboral\"))).orderBy(\"anio\"))"
    },
    {
      "cell_type": "markdown",
      "metadata": {},
      "source": "Evidenciando los sueldos promedios por año para hombres y mujeres afroecuatorianos, nos damos cuenta que reciben lo equivalente a un sueldo básico vitalicio, se puede valorar que ocupaciones pueden laborar las personas afroecuatorianas para recibir ese sueldo vitalicio. Teniendo en cuenta las ocupaciones que laboran las personas afroecuatorianas, lo cual nos permitió establecer que en su mayoría se dedican al comercio, agricultura y pescadera u ocupaciones elementales. Este tipo de ocupaciones son una de las más grandes ocupaciones dentro de nuestro país. Ecuador debería tener medidas para este tipo de ocupaciones para que tengan mayores beneficios como por ejemplo seguro de salud, seguro de vida, entre otros."
    },
    {
      "cell_type": "code",
      "execution_count": 13,
      "metadata": {
        "autoscroll": "auto"
      },
      "outputs": [],
      "source": "z.show(data.where($\"etnia\" \u003d\u003d\u003d \"2 - Afroecuatoriano\" \u0026\u0026 $\"grupo_ocupacion\".isNotNull).groupBy(\"grupo_ocupacion\").pivot(\"genero\").count().orderBy(\"grupo_ocupacion\"))"
    },
    {
      "cell_type": "markdown",
      "metadata": {},
      "source": "Ecuador es un país diverso en étnias y cultura lo cual la hace rica en distintos ámbitos. Queremos saber el salario promedio por cada etnia dentro del Ecuador.Sorprendentemente las étnias con más ingresos économicos dentro de nuestro país son las etnias blancas y mestizas, ya que son predominantes étnias. Al igual destacar que la étnia indígena es una de las más bajas, esto se puede atribuir por diversas causas como por ejemplo el nivel de de instrucción, pobreza, entre otros."
    },
    {
      "cell_type": "raw",
      "metadata": {
        "format": "text/plain"
      },
      "source": "%mariadb\nSELECT etnia, COUNT(*) AS \"Personas que superan el salario básico\", ROUND(AVG(ingresos)) AS \"Salario promedio\"\nFROM Personas p\nJOIN etnias e ON p.cod_etnia \u003d e.cod_etnia\nWHERE p.ingresos \u003e 400\nGROUP BY etnia\nORDER BY 3 DESC;"
    },
    {
      "cell_type": "markdown",
      "metadata": {},
      "source": "El Ecuador es un país muy diversificado, la cual cuenta con varias etnias que a pesar del pasar el tiempo se siguen presentado en la actualidad, según la data presentada por el INEC del empleo y desempleo, se pudo recolectar estos datos y procesarlos para poder realizar un análisis en cuanto a la capacidad económica que se presenta en los ecuatorianos en cada una de las etnias.\n\nPrimeramente, se realizó un conteo de las personas tanto hombres como mujeres se presentan en los datos de cada una de las etnias, y mediante la cual se obtuvo que el número de hombres y mujeres en cada una de las etnias tiene una correlación. Pero a demás de ello en los datos se presenta mayormente el número de personas de etnia mestiza que se da registrado y en su mayoría son hombre pero no con mucha diferencia, lo que se relaciona incluso con la cantidad total de habitantes del Ecuador, que son el 50.1% hombre y 49.9% mujeres como presenta la página Country meters en su pagina web https://countrymeters.info/es/Ecuador."
    },
    {
      "cell_type": "code",
      "execution_count": 17,
      "metadata": {
        "autoscroll": "auto"
      },
      "outputs": [],
      "source": "z.show(data.groupBy(\"etnia\").pivot(\"genero\").count.orderBy(\"etnia\"))"
    },
    {
      "cell_type": "markdown",
      "metadata": {},
      "source": "Seguido de ellos con el fin de conocer las edades promedio de las personas de cada etnia se calculó el promedio y así ver los rangos de edades, los cuales nos da como resultado que en promedio las edades de hombres y mujeres en su mayoría son idénticas a excepción de la etnia Negra en la cual la edad promedio es 40 años que corresponde a las mujeres y en la etnia clasificada como otros mayormente están los hombres con 43 años."
    },
    {
      "cell_type": "code",
      "execution_count": 19,
      "metadata": {
        "autoscroll": "auto"
      },
      "outputs": [],
      "source": "z.show(data.groupBy(\"etnia\").pivot(\"genero\")\n                            .agg(round(avg(\"edad\")).cast(IntegerType))\n                            .orderBy(\"etnia\"))"
    },
    {
      "cell_type": "markdown",
      "metadata": {},
      "source": " \nUna vez obtenidos estos resultados se procedió a evaluar la cantidad de personas que desde el año 2015 al 2019 han trabajado en cada uno de los cuatro sectores de trabajo en el Ecuador y se obtuvo que en el empleo formal ha ido decreciendo el número de personas trabajando en este sector en comparación del 2015 hasta el año más reciente que presentan los datos que es del 2019, en el sector informal y en el no clasificado también ha existido el decaimiento. Pero por otro lado el sector de empleo Doméstico a tenido no muy excesivo, pero si un aumento, esto quiere decir que se está dando mucho más este tipo de empleo por la existencia de personas que optan por este debido a varios factores como falta de trabajo en los demás sectores de trabajo registrados en el Ecuador."
    },
    {
      "cell_type": "code",
      "execution_count": 21,
      "metadata": {
        "autoscroll": "auto"
      },
      "outputs": [],
      "source": "z.show(data.where($\"sectorizacion\".isNotNull).groupBy(\"sectorizacion\").pivot(\"anio\").count.orderBy(\"sectorizacion\"))"
    },
    {
      "cell_type": "code",
      "execution_count": 22,
      "metadata": {
        "autoscroll": "auto"
      },
      "outputs": [],
      "source": "z.show(data.where($\"sectorizacion\".isNotNull)\n            .groupBy(\"sectorizacion\")\n           .pivot(\"anio\")\n           .count\n           .orderBy(\"sectorizacion\"))"
    },
    {
      "cell_type": "markdown",
      "metadata": {},
      "source": "En base a ello se optó a realizar el análisis de la cantidad de ingresos que han tenido las personas en estos años en sus diferentes sectores.  Cual nos dio como resultado Que en el sector formal es el sector que más tiene ingresos, pero a pesar de ello a tenido una baja de un 3.27 dólares, el sector informal de igual forma con un descenso de 2.94 dólares. En cambio, el sector de empleo doméstico a tenido un aumento con un promedio de ingresos de 29.07 dólares hasta el 2019.\n"
    },
    {
      "cell_type": "code",
      "execution_count": 24,
      "metadata": {
        "autoscroll": "auto"
      },
      "outputs": [],
      "source": "z.show(data.where($\"sectorizacion\".isNotNull).groupBy(\"sectorizacion\").pivot(\"anio\").agg(round(avg(\"ingreso_laboral\"))).orderBy(\"sectorizacion\"))"
    },
    {
      "cell_type": "markdown",
      "metadata": {},
      "source": " \nTomando en cuenta los ingreso laborales de cada personas se calculó cuantos hombre y mujeres son los que se dedican a este tipo de empleo en cada una de las etnias lo que nos reflejo en independientemente de la etnia la mujer es la que se dedica mas a este tipo de empleo, incluso existiendo datos que ningun hombre se dedica en las etnia Mulata y los clasificados como otros. Llegando a la conclusion que aún se refleja en cierto punto la ideología antigua de cada una de las etnias de nuestro pais en donde se decía que las mujeres se dediquen mayormente a tareas del hogar y el hombre a trabajos más forzosos, lo que sin duda en la actulidad de trata de erradicar. "
    },
    {
      "cell_type": "code",
      "execution_count": 26,
      "metadata": {
        "autoscroll": "auto"
      },
      "outputs": [],
      "source": "z.show(data.where($\"sectorizacion\" \u003d\u003d\u003d \"3 - Empleo Doméstico\").groupBy(\"etnia\").pivot(\"genero\").count.orderBy(\"etnia\"))"
    },
    {
      "cell_type": "markdown",
      "metadata": {},
      "source": "En base a ello se indagó en cual de todas las provincias de nuestro país en donde se da más el trabajo doméstico, dando como resultado que principalmente se da en las provincias del Pichincha con 2460 personas que se dedican a este tipo de trabajo seguidamente del Guayas y del Azuay, donde se puede llegar a decir que el trabajo domético tiene muchas más acogida ya sea por preferencia, nivel de instrucción o incluso por ideología de cada personas como se mencionó anteriormente.\n"
    },
    {
      "cell_type": "raw",
      "metadata": {
        "format": "text/plain"
      },
      "source": "%mariadb\nSELECT provincia , COUNT(*) AS \"Personas con empleo doméstico\"\nFROM Provincias p \nJOIN Cantones c ON p.cod_provincia \u003d c.cod_provincia\nJOIN Personas pe ON c.cod_canton \u003d pe.cod_canton\nWHERE Sectorizacion \u003d \"empleo doméstico\"\nGROUP BY Provincia\nORDER BY 2 DESC;"
    },
    {
      "cell_type": "markdown",
      "metadata": {},
      "source": "La presente gráfica trata sobre las personas que se dedican a la rama de actividad construcción, clasificado por cada una de las etnias existentes en el país, tal como se puede observar a entre los años 2015 - 2019, la etnia que predomina en esta actividad es la mestiza seguida de la indígena, teniendo su mayor número en el 2015 en ambas etnias, pero a partir del 2017 existe una reducción, en cambio la etnia montubia tiene un ligero incremento al transcurrir del tiempo.\nEl sector de la construcción se ve altamente golpeada por los problemas que atravieza el país, ante ello este 2020 se espera que aun exista una reducción significativa debido a la pandemia generada por el covid-19"
    },
    {
      "cell_type": "code",
      "execution_count": 30,
      "metadata": {
        "autoscroll": "auto"
      },
      "outputs": [],
      "source": "z.show(data.where($\"rama_actividad\" \u003d\u003d\u003d \"06 - F. Construcción\").groupBy(\"etnia\").pivot(\"anio\").count.orderBy(\"etnia\"))"
    },
    {
      "cell_type": "markdown",
      "metadata": {},
      "source": "La presente gráfica trata sobre la cantidad de hombres y mujeres de la etnia mestiza y montubia, consideras de mayor presencia en Ecuador, tomando como referencia el Banco Mundial (https://datos.bancomundial.org/indicator/SP.POP.TOTL.FE.ZS), en algunos países actualmente el número de mujeres supera al de hombres, se puede evidenciar que en el caso de mestizos y montubios el género que predomina es el masculino, existiendo mayor diferencia en la etnia mestiza cuenta con un estimado del 59 %."
    },
    {
      "cell_type": "code",
      "execution_count": 32,
      "metadata": {
        "autoscroll": "auto"
      },
      "outputs": [],
      "source": "z.show(data.where($\"etnia\" \u003d\u003d\u003d \"6 - Mestizo\" || $\"etnia\" \u003d\u003d\u003d \"5 - Montubio\")\n            .groupBy(\"etnia\")\n            .pivot(\"genero\")\n            .count.orderBy(\"etnia\"))"
    },
    {
      "cell_type": "markdown",
      "metadata": {},
      "source": "En la siguiente visualización, se muestra las personas de cada etnia que pertenecen al área rural y cuenta con un nivel de instrucción superior universitario, en el Ecuador una gran parte del las personas del área rural se dedican al campo, por lo cual no todas las personas acceden a un nivel de instrucción superior universitario, ante ello exite, una mayoria en la etnia mestiza con un total de 12020 personas que acceden a este nivel seguido de indígenas con 1724, sin embargo las etnias afroecuatoriano, negro, mulato, montubio y blanco no superan las 500 personas."
    },
    {
      "cell_type": "code",
      "execution_count": 34,
      "metadata": {
        "autoscroll": "auto"
      },
      "outputs": [],
      "source": "z.show(data.where($\"area\" \u003d\u003d\u003d \"2 - Rural\" \u0026\u0026 $\"nivel_de_instruccion\" \u003d\u003d\u003d \"09 - Superior Universitario\").groupBy(\"etnia\").count.orderBy(\"etnia\"))"
    },
    {
      "cell_type": "markdown",
      "metadata": {},
      "source": "La presente gráfica muestra el total de personas por cada etnia que pertenecen a la área urbana, como se muestra visualmente la etnia mestiza es la que mayor presencia tiene en el sector urbano con un 88 %, seguido de la indígena, la gran presencia de mestizos en el área urbana se da porque esta etnia se encuantra distribuida a lo largo del Ecuador, por ende su presencia aumentará a lo largo del tiempo.(http://palabrastendidasalviento.blogspot.com/2012/04/proximas-estaciones-quito-borbon-puyo.html)\n"
    },
    {
      "cell_type": "raw",
      "metadata": {
        "format": "text/plain"
      },
      "source": "%mariadb\nSELECT etnia, COUNT(*) AS \"Total Área Urbana\"\nFROM Personas p\nJOIN etnias e ON p.cod_etnia \u003d e.cod_etnia\nWHERE p.area \u003d \"U\" \nGROUP BY etnia\nORDER BY 2;"
    },
    {
      "cell_type": "code",
      "execution_count": 37,
      "metadata": {
        "autoscroll": "auto"
      },
      "outputs": [],
      "source": "val dataCantones \u003d spark\n\t  .read\n\t  .option(\"inferSchema\",\"true\")\n\t  .option(\"header\",\"true\")\n\t  .option(\"delimiter\",\",\")\n\t  .csv(\"/home/davisalex22/Programacion/cantonesEcuador.csv\")"
    },
    {
      "cell_type": "markdown",
      "metadata": {},
      "source": "La siguiente Tabla muestra la cantidad de personas existentes por cada etnia en la provincia más joven del Ecuador, fundada en el año 2007, tal como se observa en sus tres cantones la etnia predominante es la mestiza, seguida de la montubia, al encontrarse la etnia meztiza distribuida por todo el país se puede evidenciar que la etnia mestiza se esta posicionando con el pasar de los tiempo en cada una de las provincias, anteriormente la etnia montubia tenia gran presencia el la región costa del Ecuador, sin embargo se ve que con el pasar del tiempo los mestizos van incrementando.(https://www.ecured.cu/Provincia_de_Santa_Elena_(Ecuador))"
    },
    {
      "cell_type": "code",
      "execution_count": 39,
      "metadata": {
        "autoscroll": "auto"
      },
      "outputs": [],
      "source": "val dataCanton \u003d data.join(dataCantones,data(\"canton\") \u003d\u003d\u003d dataCantones(\"codigoCanton\"),\"inner\")\nz.show(dataCanton.where($\"provincia\" \u003d\u003d\u003d 24).groupBy($\"etnia\").pivot(\"nombreCanton\").count.orderBy(\"etnia\"))"
    },
    {
      "cell_type": "markdown",
      "metadata": {},
      "source": "La siguiente tabla muestra el promedio de sueldo en cada una de las ramas de actividad, siendo las Actividades de organizaciones extraterritoriales la que recibe un sueldo promedio superior de $ 1709, esto corresponde a actividades de organizaciones internacionales, como las Naciones Unidas y los organismos especializados del sistema de las Naciones Unidas, órganos regionales, etc. Por otro lado la menos remunerada  es la Agricultura, ganadería, casa y silvicultura y pesca. (http://www.actor-atlas.info/es2:9900) "
    },
    {
      "cell_type": "raw",
      "metadata": {
        "format": "text/plain"
      },
      "source": "%mariadb\nSELECT rama, ROUND(AVG(ingresos)) AS \"Sueldo Promedio\"\nFROM Personas p\nJOIN Ramas_Actividad r ON p.cod_rama \u003d r.cod_rama\nGROUP BY rama\nORDER BY 2 DESC;"
    },
    {
      "cell_type": "raw",
      "metadata": {
        "format": "text/plain"
      },
      "source": "%mariadb\n"
    }
  ]
}