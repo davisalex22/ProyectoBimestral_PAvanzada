﻿{
  "metadata": {
    "name": "Avance1_PAvanzada",
    "kernelspec": {
      "language": "scala",
      "name": "spark2-scala"
    },
    "language_info": {
      "codemirror_mode": "text/x-scala",
      "file_extension": ".scala",
      "mimetype": "text/x-scala",
      "name": "scala",
      "pygments_lexer": "scala"
    }
  },
  "nbformat": 4,
  "nbformat_minor": 2,
  "cells": [
    {
      "cell_type": "code",
      "execution_count": 0,
      "metadata": {
        "autoscroll": "auto"
      },
      "outputs": [],
      "source": "import org.apache.spark.sql.types._\nimport org.apache.spark.sql.functions._\nval myDataSchema \u003d StructType(\n  Array(\n    StructField(\"id\",DecimalType(26, 0),true),\n    StructField(\"anio\",IntegerType,true),\n    StructField(\"mes\",IntegerType,true),\n    StructField(\"provincia\",IntegerType,true),\n    StructField(\"canton\",IntegerType,true),\n    StructField(\"area\",StringType,true),\n    StructField(\"genero\",StringType,true),\n    StructField(\"edad\",IntegerType,true),\n    StructField(\"estado_civil\",StringType,true),\n    StructField(\"nivel_de_instruccion\",StringType,true),\n    StructField(\"etnia\",StringType,true),\n    StructField(\"ingreso_laboral\",IntegerType,true),\n    StructField(\"condicion_actividad\",StringType,true),\n    StructField(\"sectorizacion\",StringType,true),\n    StructField(\"grupo_ocupacion\",StringType,true),\n    StructField(\"rama_actividad\",StringType,true),\n    StructField(\"factor_expansion\",DoubleType,true)\n  ));"
    },
    {
      "cell_type": "code",
      "execution_count": 1,
      "metadata": {
        "autoscroll": "auto"
      },
      "outputs": [],
      "source": "val data \u003d spark\n\t  .read\n\t  .option(\"inferSchema\",\"true\")\n\t  .option(\"header\",\"true\")\n\t  .option(\"delimiter\",\"\\t\")\n\t  .csv(\"/home/davisalex22/Datos_ENEMDU_PEA_v2.csv\")"
    },
    {
      "cell_type": "code",
      "execution_count": 2,
      "metadata": {
        "autoscroll": "auto"
      },
      "outputs": [],
      "source": "val dataI \u003d data.where($\"etnia\" \u003d\u003d\u003d \"1 - Indígena\")\nval dataA \u003d data.where($\"etnia\" \u003d\u003d\u003d \"2 - Afroecuatoriano\")\nval dataN \u003d data.where($\"etnia\" \u003d\u003d\u003d \"3 - Negro\")\nval dataMu \u003d data.where($\"etnia\" \u003d\u003d\u003d \"4 - Mulato\")\nval dataMo \u003d data.where($\"etnia\" \u003d\u003d\u003d \"5 - Montubio\")\nval dataMe \u003d data.where($\"etnia\" \u003d\u003d\u003d \"6 - Mestizo\")\nval dataB \u003d data.where($\"etnia\" \u003d\u003d\u003d \"7 - Blanco\")\nval dataO \u003d data.where($\"etnia\" \u003d\u003d\u003d \"8 - Otro\")"
    },
    {
      "cell_type": "code",
      "execution_count": 3,
      "metadata": {
        "autoscroll": "auto"
      },
      "outputs": [],
      "source": "dataI.groupBy(\"anio\").avg(\"ingreso_laboral\").as(\"sueldo promedio indigena\").sort($\"anio\".desc).show();\ndataA.groupBy(\"anio\").avg(\"ingreso_laboral\").as(\"sueldo promedio Afroecuatoriano\").sort($\"anio\".desc).show();\ndataN.groupBy(\"anio\").avg(\"ingreso_laboral\").as(\"sueldo promedio Negros\").sort($\"anio\".desc).show();\ndataMu.groupBy(\"anio\").avg(\"ingreso_laboral\").as(\"sueldo promedio Mulato\").sort($\"anio\".desc).show();\ndataMo.groupBy(\"anio\").avg(\"ingreso_laboral\").as(\"sueldo promedio Montubio\").sort($\"anio\".desc).show();\ndataMe.groupBy(\"anio\").avg(\"ingreso_laboral\").as(\"sueldo promedio Mestizos\").sort($\"anio\".desc).show();\ndataB.groupBy(\"anio\").avg(\"ingreso_laboral\").as(\"sueldo promedio Blancos\").sort($\"anio\".desc).show();\ndataO.groupBy(\"anio\").avg(\"ingreso_laboral\").as(\"sueldo promedio Otros\").sort($\"anio\".desc).show();\n"
    },
    {
      "cell_type": "code",
      "execution_count": 4,
      "metadata": {
        "autoscroll": "auto"
      },
      "outputs": [],
      "source": "val SFN \u003d dataN.where($\"sectorizacion\" \u003d\u003d\u003d \"1 - Sector Formal\")\nval SIN \u003d dataN.where($\"sectorizacion\" \u003d\u003d\u003d \"2 - Sector Informal\")\nval EDN \u003d dataN.where($\"sectorizacion\" \u003d\u003d\u003d \"3 - Empleo Doméstico\")\nval NCN \u003d dataN.where($\"sectorizacion\" \u003d\u003d\u003d \"4 - No Clasificados por Sector\")\n\nprintln(\"Etnia negra en Sector formal \"+ SFN.count)\nprintln(\"Etnia negra en Sector informal \"+ SIN.count)\nprintln(\"Etnia negra en Sector empleo domestico \"+ EDN.count)\nprintln(\"Etnia negra en No Clasificados por Sector \"+ NCN.count)"
    },
    {
      "cell_type": "code",
      "execution_count": 5,
      "metadata": {
        "autoscroll": "auto"
      },
      "outputs": [],
      "source": "val SFB \u003d dataB.where($\"sectorizacion\" \u003d\u003d\u003d \"1 - Sector Formal\")\nval SIB \u003d dataB.where($\"sectorizacion\" \u003d\u003d\u003d \"2 - Sector Informal\")\nval EDB \u003d dataB.where($\"sectorizacion\" \u003d\u003d\u003d \"3 - Empleo Doméstico\")\nval NCB \u003d dataB.where($\"sectorizacion\" \u003d\u003d\u003d \"4 - No Clasificados por Sector\")\n\nprintln(\"Etnia blanca en Sector formal \"+ SFB.count)\nprintln(\"Etnia blanca en Sector informal \"+ SIB.count)\nprintln(\"Etnia blanca en Sector empleo domestico \"+ EDB.count)\nprintln(\"Etnia blanca en No Clasificados por Sector \"+ NCB.count)"
    },
    {
      "cell_type": "code",
      "execution_count": 6,
      "metadata": {
        "autoscroll": "auto"
      },
      "outputs": [],
      "source": "val SFM \u003d dataMe.where($\"sectorizacion\" \u003d\u003d\u003d \"1 - Sector Formal\")\nval SIM \u003d dataMe.where($\"sectorizacion\" \u003d\u003d\u003d \"2 - Sector Informal\")\nval EDM \u003d dataMe.where($\"sectorizacion\" \u003d\u003d\u003d \"3 - Empleo Doméstico\")\nval NCM \u003d dataMe.where($\"sectorizacion\" \u003d\u003d\u003d \"4 - No Clasificados por Sector\")\n\nprintln(\"Etnia mestiza en Sector formal \"+ SFM.count)\nprintln(\"Etnia mestiza en Sector informal \"+ SIM.count)\nprintln(\"Etnia mestiza en Sector empleo domestico \"+ EDM.count)\nprintln(\"Etnia mestiza en No Clasificados por Sector \"+ NCM.count)"
    },
    {
      "cell_type": "raw",
      "metadata": {
        "format": "text/plain"
      },
      "source": "val SUM \u003d dataMe.where($\"nivel_de_instruccion\" \u003d\u003d\u003d \"09 - Superior Universitario\")\nval SNUM \u003d dataMe.where($\"nivel_de_instruccion\" \u003d\u003d\u003d \"08 - Superior no universitario\")\nval PGM \u003d dataMe.where($\"nivel_de_instruccion\" \u003d\u003d\u003d \"10 - Post-grado\")\n\nprintln(f\"${(SUM.count / data.count.toDouble) * 100}%.2f%%Mestizos universitaria\\n${(SNUM.count / data.count.toDouble) * 100}%.2f%%Mestizos no universitario\\n${(PGM.count / data.count.toDouble) * 100}%.2f%%Mestizos post grado\")\n\nval SUB \u003d dataB.where($\"nivel_de_instruccion\" \u003d\u003d\u003d \"09 - Superior Universitario\")\nval SNUB \u003d dataB.where($\"nivel_de_instruccion\" \u003d\u003d\u003d \"08 - Superior no universitario\")\nval PGB \u003d dataB.where($\"nivel_de_instruccion\" \u003d\u003d\u003d \"10 - Post-grado\")\n\nprintln(f\"${(SUB.count / data.count.toDouble) * 100}%.2f%%Blancos universitaria\\n${(SNUB.count / data.count.toDouble) * 100}%.2f%%Blancos no universitario\\n${(PGB.count / data.count.toDouble) * 100}%.2f%%Blancos post grado\")\n\n\nval SUN \u003d dataN.where($\"nivel_de_instruccion\" \u003d\u003d\u003d \"09 - Superior Universitario\")\nval SNUN \u003d dataN.where($\"nivel_de_instruccion\" \u003d\u003d\u003d \"08 - Superior no universitario\")\nval PGN \u003d dataN.where($\"nivel_de_instruccion\" \u003d\u003d\u003d \"10 - Post-grado\")\n\nprintln(f\"${(SUN.count / data.count.toDouble) * 100}%.2f%%Etnia negra universitaria\\n${(SNUN.count / data.count.toDouble) * 100}%.2f%%Etnia negra no universitaria\\n${(PGN.count / data.count.toDouble) * 100}%.2f%%Etnia negra con post grado\")"
    },
    {
      "cell_type": "code",
      "execution_count": 8,
      "metadata": {
        "autoscroll": "auto"
      },
      "outputs": [],
      "source": "SUM.select(min(\"ingreso_laboral\").as(\"minímo mestizos con educación superior\"), max(\"ingreso_laboral\").as(\"maxímo mestizos con educación superior\")).show\nSNUM.select(min(\"ingreso_laboral\").as(\"minímo mestizos con educación no superior\"), max(\"ingreso_laboral\").as(\"maxímo mestizos con educación no superior\")).show\nPGM.select(min(\"ingreso_laboral\").as(\"minímo mestizos con post grado\"), max(\"ingreso_laboral\").as(\"maxímo mestizos con post grado\")).show\n\nSUB.select(min(\"ingreso_laboral\").as(\"minímo blancos con educación superior\"), max(\"ingreso_laboral\").as(\"maxímo blancos con educación superior\")).show\nSNUB.select(min(\"ingreso_laboral\").as(\"minímo blancos con educación no superior\"), max(\"ingreso_laboral\").as(\"maxímo blancos con educación no superior\")).show\nPGB.select(min(\"ingreso_laboral\").as(\"minímo blancos con post grado\"), max(\"ingreso_laboral\").as(\"maxímo blancos con post grado\")).show\n\nSUN.select(min(\"ingreso_laboral\").as(\"minímo etnia negra con educación superior\"), max(\"ingreso_laboral\").as(\"maxímo etnia negra con educación superior\")).show\nSNUN.select(min(\"ingreso_laboral\").as(\"minímo etnia negra con educación no superior\"), max(\"ingreso_laboral\").as(\"maxímo etnia negra con educación no superior\")).show\nPGN.select(min(\"ingreso_laboral\").as(\"minímo etnia negra con post grado\"), max(\"ingreso_laboral\").as(\"maxímo etnia negra con post grado\")).show"
    },
    {
      "cell_type": "code",
      "execution_count": 9,
      "metadata": {
        "autoscroll": "auto"
      },
      "outputs": [],
      "source": "dataB.select(avg(\"edad\") as \"Edad promedio Blanco\").show\ndataMo.select(avg(\"edad\") as \"Edad promedio Montubio\").show\ndataO.select(avg(\"edad\") as \"Edad promedio Otros\").show\ndataMe.select(avg(\"edad\") as \"Edad promedio Mestizo\").show\ndataMu.select(avg(\"edad\") as \"Edad promedio Mulato\").show\ndataN.select(avg(\"edad\") as \"Edad promedio Negro\").show\ndataA.select(avg(\"edad\") as \"Edad promedio Afroecuatoriano\").show\ndataI.select(avg(\"edad\") as \"Edad promedio Indígena\").show\n"
    },
    {
      "cell_type": "code",
      "execution_count": 10,
      "metadata": {
        "autoscroll": "auto"
      },
      "outputs": [],
      "source": "println(f\"${(dataMe.count/data.count.toDouble)*100}%.2f%% Mestizos\\n${(dataI.count/data.count.toDouble)*100}%.2f%% Indigenas\\n${(dataMo.count/data.count.toDouble)*100}%.2f%% Montubio\\n${(dataB.count/data.count.toDouble)*100}%.2f%% Blanco\\n${(dataN.count/data.count.toDouble)*100}%.2f%% Negro\\n${(dataA.count/data.count.toDouble)*100}%.2f%% Afroecuatoriano\\n${(dataMu.count/data.count.toDouble)*100}%.2f%% Mulato\\n${(dataO.count/data.count.toDouble)*100}%.2f%% Otro\")"
    },
    {
      "cell_type": "code",
      "execution_count": 11,
      "metadata": {
        "autoscroll": "auto"
      },
      "outputs": [],
      "source": "val condMe \u003d dataMe.where($\"condicion_actividad\" \u003d\u003d\u003d \"1 - Empleo Adecuado/Pleno\").count\nval condB \u003d dataB.where($\"condicion_actividad\" \u003d\u003d\u003d \"1 - Empleo Adecuado/Pleno\").count\nval condN \u003d dataN.where($\"condicion_actividad\" \u003d\u003d\u003d \"1 - Empleo Adecuado/Pleno\").count\n\nprintln(\"Número de personas con Empleo adecuado de Mestizos: \"+ condMe+ \"\\nNúmero de personas con Empleo adecuado de Blancos: \"+condB+\"\\nNúmero de personas con Empleo adecuado de Negros: \"+condN)"
    },
    {
      "cell_type": "code",
      "execution_count": 12,
      "metadata": {
        "autoscroll": "auto"
      },
      "outputs": [],
      "source": "val cantTotal \u003d data.where($\"provincia\" \u003d\u003d\u003d \"11\")\nval cantMe \u003d dataMe.where($\"provincia\" \u003d\u003d\u003d \"11\")\nval cantB \u003d dataB.where($\"provincia\" \u003d\u003d\u003d \"11\")\nval cantN \u003d dataN.where($\"provincia\" \u003d\u003d\u003d \"11\")\nprintln(f\"${(cantMe.count*100)/cantTotal.count.toDouble}%.2f%% Mestizos\\n\"+ f\"${(cantB.count*100)/cantTotal.count.toDouble}%.2f%% Blancos\\n\"+f\"${(cantN.count*100)/cantTotal.count.toDouble}%.2f%% Negros\")"
    },
    {
      "cell_type": "code",
      "execution_count": 13,
      "metadata": {
        "autoscroll": "auto"
      },
      "outputs": [],
      "source": "val dataMe \u003d data.where($\"genero\" \u003d\u003d\u003d \"2 - Mujer\" \u0026\u0026 $\"etnia\" \u003d\u003d\u003d \"6 - Mestizo\")\nval dataHe \u003d data.where($\"genero\" \u003d\u003d\u003d \"1 - Hombre\" \u0026\u0026 $\"etnia\" \u003d\u003d\u003d \"6 - Mestizo\")\nval dataMa \u003d data.where($\"genero\" \u003d\u003d\u003d \"2 - Mujer\" \u0026\u0026 $\"etnia\" \u003d\u003d\u003d \"2 - Afroecuatoriano\")\nval dataHa \u003d data.where($\"genero\" \u003d\u003d\u003d \"1 - Hombre\" \u0026\u0026 $\"etnia\" \u003d\u003d\u003d \"2 - Afroecuatoriano\")\nprintln(\"Existen \"+ dataHe.count + \" mujeres mestizas\")\nprintln(\"Existen \"+ dataMe.count + \" hombres mestizos\")\nprintln(\"Existen \"+ dataHa.count + \" hombres afroecuatorianos\")\nprintln(\"Existen \"+ dataMa.count + \" mujeres afroecuatorianas\")"
    },
    {
      "cell_type": "code",
      "execution_count": 14,
      "metadata": {
        "autoscroll": "auto"
      },
      "outputs": [],
      "source": "dataMe.where($\"sectorizacion\" \u003d\u003d\u003d \"3 - Empleo Doméstico\").select(max(\"ingreso_laboral\").as(\"Máximo sueldo de una empleada domestica mestiza\")).show\ndataMa.where($\"sectorizacion\" \u003d\u003d\u003d \"3 - Empleo Doméstico\").select(max(\"ingreso_laboral\").as(\"Máximo sueldo de una empleada domestica afroecuatorina\")).show"
    },
    {
      "cell_type": "code",
      "execution_count": 15,
      "metadata": {
        "autoscroll": "auto"
      },
      "outputs": [],
      "source": "data\n   .where($\"rama_actividad\" \u003d\u003d\u003d \"06 - F. Construcción\")\n   .groupBy(\"etnia\")\n   .agg(count(\"*\").as(\"Cantidad de personas\"))\n   .orderBy(desc(\"Cantidad de personas\"))\n   .show()"
    },
    {
      "cell_type": "code",
      "execution_count": 16,
      "metadata": {
        "autoscroll": "auto"
      },
      "outputs": [],
      "source": "data\n   .where($\"area\" \u003d\u003d\u003d \"2 - Rural\" \u0026\u0026 $\"nivel_de_instruccion\" \u003d\u003d\u003d \"09 - Superior Universitario\")\n   .groupBy(\"etnia\")\n   .agg(count(\"*\").as(\"Area Rural\"))\n   .orderBy(desc(\"Area Rural\"))\n   .show()"
    },
    {
      "cell_type": "markdown",
      "metadata": {},
      "source": " Desviacion Estandar "
    },
    {
      "cell_type": "code",
      "execution_count": 18,
      "metadata": {
        "autoscroll": "auto"
      },
      "outputs": [],
      "source": "// Análisis General Basado en la columna ingreso_laboral\nval dfIngresoLaboral \u003d data.select(\"ingreso_laboral\").where($\"ingreso_laboral\".isNotNull)\ndfIngresoLaboral.count"
    },
    {
      "cell_type": "code",
      "execution_count": 19,
      "metadata": {
        "autoscroll": "auto"
      },
      "outputs": [],
      "source": "// Desviación estándar\nval cantValoresEnDifRangos \u003d scala.collection.mutable.ListBuffer[Long]()\nval minValue \u003d 0.0\nval maxValue \u003d 146030\nval bins \u003d 5.0\nval range \u003d (maxValue - minValue) / bins\nvar minCounter \u003d minValue\nvar maxCounter \u003d range\nwhile(minCounter \u003c maxValue){\n    val valoresEnUnRango \u003d dfIngresoLaboral.where($\"ingreso_laboral\".between(minCounter,maxCounter))\n    cantValoresEnDifRangos.+\u003d(valoresEnUnRango.count())\n    minCounter \u003d maxCounter\n    maxCounter \u003d maxCounter + range\n}\nprintln(\"Valores en diferentes rangos:\")\ncantValoresEnDifRangos.foreach(println)\nval avg \u003d dfIngresoLaboral.select(mean(\"ingreso_laboral\"))\n    .first()(0).asInstanceOf[Double]"
    },
    {
      "cell_type": "code",
      "execution_count": 20,
      "metadata": {
        "autoscroll": "auto"
      },
      "outputs": [],
      "source": "// Cálculo de la Desviación estándar\n\nval stdDesv \u003d dfIngresoLaboral.select(stddev(\"ingreso_laboral\"))\n    .first()(0).asInstanceOf[Double]"
    },
    {
      "cell_type": "code",
      "execution_count": 21,
      "metadata": {
        "autoscroll": "auto"
      },
      "outputs": [],
      "source": "// Cálculo de límites\nval inferior \u003d avg - 3 * stdDesv\nval superior \u003d avg + 3 * stdDesv"
    },
    {
      "cell_type": "code",
      "execution_count": 22,
      "metadata": {
        "autoscroll": "auto"
      },
      "outputs": [],
      "source": "// Filtrar\nval valoresMenoresLInferior \u003d dfIngresoLaboral.where($\"ingreso_laboral\" \u003c inferior)\nvaloresMenoresLInferior.describe().show\n\nval valoresMayoresLSuperior \u003d dfIngresoLaboral.where($\"ingreso_laboral\" \u003e superior)\nvaloresMayoresLSuperior.describe().show\n\nvaloresMayoresLSuperior.orderBy($\"ingreso_laboral\".desc).show\n\nval dataSinOutliertsStdDev \u003d dfIngresoLaboral.where($\"ingreso_laboral\" \u003e inferior \u0026\u0026 $\"ingreso_laboral\" \u003c superior)\ndataSinOutliertsStdDev.select(\"ingreso_laboral\").summary().show"
    },
    {
      "cell_type": "markdown",
      "metadata": {},
      "source": " Calculo de Cuartiles"
    },
    {
      "cell_type": "code",
      "execution_count": 24,
      "metadata": {
        "autoscroll": "auto"
      },
      "outputs": [],
      "source": "// Obtener cuartiles\ndata.select(\"ingreso_laboral\").summary().show"
    },
    {
      "cell_type": "code",
      "execution_count": 25,
      "metadata": {
        "autoscroll": "auto"
      },
      "outputs": [],
      "source": "// Cuartiles\nval cuartiles \u003d dfIngresoLaboral.stat.approxQuantile(\"ingreso_laboral\", Array(0.25,0.50,0.75), 0.0)\nval q1 \u003d cuartiles(0)\nval q2 \u003d cuartiles(1)\nval q3 \u003d cuartiles(2)"
    },
    {
      "cell_type": "code",
      "execution_count": 26,
      "metadata": {
        "autoscroll": "auto"
      },
      "outputs": [],
      "source": "// Calcular rango intercuartil\nval iqr \u003d q3 -q1\n// Calcular los límites\nval inferiorIQR \u003d q1 - 1.5 * iqr\nval superiorIQR \u003d q3 + 1.5 * iqr"
    },
    {
      "cell_type": "code",
      "execution_count": 27,
      "metadata": {
        "autoscroll": "auto"
      },
      "outputs": [],
      "source": "val valoresMenoresInferiorIqr \u003d dfIngresoLaboral.where($\"ingreso_laboral\" \u003c inferiorIQR)\nvaloresMenoresInferiorIqr.summary().show"
    },
    {
      "cell_type": "code",
      "execution_count": 28,
      "metadata": {
        "autoscroll": "auto"
      },
      "outputs": [],
      "source": "val valoresMayoresSuperiorIqr \u003d dfIngresoLaboral.where($\"ingreso_laboral\" \u003e superiorIQR)\nvaloresMayoresSuperiorIqr.summary().show"
    },
    {
      "cell_type": "code",
      "execution_count": 29,
      "metadata": {
        "autoscroll": "auto"
      },
      "outputs": [],
      "source": "val dataSinOutliertsIQR \u003d dfIngresoLaboral.where($\"ingreso_laboral\" \u003e inferiorIQR \u0026\u0026 $\"ingreso_laboral\" \u003c superiorIQR)\ndataSinOutliertsIQR.select(\"ingreso_laboral\").summary().show"
    },
    {
      "cell_type": "code",
      "execution_count": 30,
      "metadata": {
        "autoscroll": "auto"
      },
      "outputs": [],
      "source": "dataSinOutliertsStdDev.select(\"ingreso_laboral\").summary().show"
    },
    {
      "cell_type": "code",
      "execution_count": 31,
      "metadata": {
        "autoscroll": "auto"
      },
      "outputs": [],
      "source": "dataSinOutliertsIQR.select(\"ingreso_laboral\").summary().show"
    }
  ]
}