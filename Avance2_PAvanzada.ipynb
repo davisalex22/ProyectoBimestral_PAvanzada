﻿{
  "metadata": {
    "name": "Avance2_PAvanzada",
    "kernelspec": {
		  "display_name": "Scala",
      "language": "scala",
      "name": "spark2-scala"
    },
    "language_info": {
      "codemirror_mode": "text/x-scala",
      "file_extension": ".scala",
      "mimetype": "text/x-scala",
      "name": "scala",
      "pygments_lexer": "scala"
    }
  },
  "nbformat": 4,
  "nbformat_minor": 2,
  "cells": [
    {
      "cell_type": "code",
      "execution_count": 0,
      "metadata": {
        "autoscroll": "auto"
      },
      "outputs": [],
      "source": "import org.apache.spark.sql.types._\nimport org.apache.spark.sql.functions._\nval myDataSchema \u003d StructType(\n  Array(\n    StructField(\"id\",DecimalType(26, 0),true),\n    StructField(\"anio\",IntegerType,true),\n    StructField(\"mes\",IntegerType,true),\n    StructField(\"provincia\",IntegerType,true),\n    StructField(\"canton\",IntegerType,true),\n    StructField(\"area\",StringType,true),\n    StructField(\"genero\",StringType,true),\n    StructField(\"edad\",IntegerType,true),\n    StructField(\"estado_civil\",StringType,true),\n    StructField(\"nivel_de_instruccion\",StringType,true),\n    StructField(\"etnia\",StringType,true),\n    StructField(\"ingreso_laboral\",IntegerType,true),\n    StructField(\"condicion_actividad\",StringType,true),\n    StructField(\"sectorizacion\",StringType,true),\n    StructField(\"grupo_ocupacion\",StringType,true),\n    StructField(\"rama_actividad\",StringType,true),\n    StructField(\"factor_expansion\",DoubleType,true)\n  ));"
    },
    {
      "cell_type": "code",
      "execution_count": 1,
      "metadata": {
        "autoscroll": "auto"
      },
      "outputs": [],
      "source": "val data \u003d spark\n\t  .read\n\t  .option(\"inferSchema\",\"true\")\n\t  .option(\"header\",\"true\")\n\t  .option(\"delimiter\",\"\\t\")\n\t  .csv(\"/home/davisalex22/Datos_ENEMDU_PEA_v2.csv\")"
    },
    {
      "cell_type": "code",
      "execution_count": 2,
      "metadata": {
        "autoscroll": "auto"
      },
      "outputs": [],
      "source": "// Separacion de etnias\nval dataI \u003d data.where($\"etnia\" \u003d\u003d\u003d \"1 - Indígena\")\nval dataA \u003d data.where($\"etnia\" \u003d\u003d\u003d \"2 - Afroecuatoriano\")\nval dataN \u003d data.where($\"etnia\" \u003d\u003d\u003d \"3 - Negro\")\nval dataMu \u003d data.where($\"etnia\" \u003d\u003d\u003d \"4 - Mulato\")\nval dataMo \u003d data.where($\"etnia\" \u003d\u003d\u003d \"5 - Montubio\")\nval dataMe \u003d data.where($\"etnia\" \u003d\u003d\u003d \"6 - Mestizo\")\nval dataB \u003d data.where($\"etnia\" \u003d\u003d\u003d \"7 - Blanco\")\nval dataO \u003d data.where($\"etnia\" \u003d\u003d\u003d \"8 - Otro\")"
    },
    {
      "cell_type": "code",
      "execution_count": 3,
      "metadata": {
        "autoscroll": "auto"
      },
      "outputs": [],
      "source": "z.show(dataA.stat.crosstab(\"condicion_actividad\", \"anio\").orderBy(\"condicion_actividad_anio\"))"
    },
    {
      "cell_type": "code",
      "execution_count": 4,
      "metadata": {
        "autoscroll": "auto"
      },
      "outputs": [],
      "source": "val empNopleno \u003d dataA.where($\"condicion_actividad\" \u003d\u003d\u003d \"4 - Otro empleo no pleno\")\nval empNoremunerado \u003d dataA.where($\"condicion_actividad\" \u003d\u003d\u003d \"5 - Empleo no remunerado\")\nval empNoclasificado \u003d dataA.where($\"condicion_actividad\" \u003d\u003d\u003d \"6 - Empleo no clasificado\")\nval dempAbierto \u003d dataA.where($\"condicion_actividad\" \u003d\u003d\u003d \"7 - Desempleo abierto\")\nval dempOculto \u003d dataA.where($\"condicion_actividad\" \u003d\u003d\u003d \"8 - Desempleo oculto\")"
    },
    {
      "cell_type": "code",
      "execution_count": 5,
      "metadata": {
        "autoscroll": "auto"
      },
      "outputs": [],
      "source": "// Promedio de edad de afroecuatorianos con un empleo no pleno\nempNopleno.groupBy(\"anio\").pivot(\"genero\").agg(round(avg(\"edad\"))).orderBy(\"anio\").show()"
    },
    {
      "cell_type": "code",
      "execution_count": 6,
      "metadata": {
        "autoscroll": "auto"
      },
      "outputs": [],
      "source": "// Promedio de edad de afroecuatorianos con un empleo no remunerado\nempNoremunerado.groupBy(\"anio\").pivot(\"genero\").agg(round(avg(\"edad\")).cast(IntegerType)).orderBy(\"anio\").show()"
    },
    {
      "cell_type": "code",
      "execution_count": 7,
      "metadata": {
        "autoscroll": "auto"
      },
      "outputs": [],
      "source": "// Promedio de edad de afroecuatorianos con un empleo no clasificado\nempNoclasificado.groupBy(\"anio\").pivot(\"genero\").agg(round(avg(\"edad\")).cast(IntegerType)).orderBy(\"anio\").show()"
    },
    {
      "cell_type": "code",
      "execution_count": 8,
      "metadata": {
        "autoscroll": "auto"
      },
      "outputs": [],
      "source": "// Promedio de edad de afroecuatorianos con un desempleo abierto\ndempAbierto.groupBy(\"anio\").pivot(\"genero\").agg(round(avg(\"edad\")).cast(IntegerType)).orderBy(\"anio\").show()"
    },
    {
      "cell_type": "code",
      "execution_count": 9,
      "metadata": {
        "autoscroll": "auto"
      },
      "outputs": [],
      "source": "// Promedio de edad de afroecuatorianos con un desempleo oculto\ndempOculto.groupBy(\"anio\").pivot(\"genero\").agg(round(avg(\"edad\")).cast(IntegerType)).orderBy(\"anio\").show()"
    },
    {
      "cell_type": "code",
      "execution_count": 10,
      "metadata": {
        "autoscroll": "auto"
      },
      "outputs": [],
      "source": "// Estado civil de las afroecuatorianos con un empleo no pleno\nz.show(empNopleno.groupBy(\"estado_civil\").pivot(\"anio\").count().orderBy(\"estado_civil\"))"
    },
    {
      "cell_type": "code",
      "execution_count": 11,
      "metadata": {
        "autoscroll": "auto"
      },
      "outputs": [],
      "source": "// Nivel de instruccion de las afroecuatorianos con un empleo no pleno\nz.show(empNopleno.groupBy(\"nivel_de_instruccion\").count().orderBy(\"nivel_de_instruccion\"))"
    },
    {
      "cell_type": "code",
      "execution_count": 12,
      "metadata": {
        "autoscroll": "auto"
      },
      "outputs": [],
      "source": "// Nivel de instruccion de las afroecuatorianos con un empleo no remunerado\nz.show(empNoremunerado.groupBy(\"nivel_de_instruccion\").count().orderBy(\"nivel_de_instruccion\"))"
    },
    {
      "cell_type": "code",
      "execution_count": 13,
      "metadata": {
        "autoscroll": "auto"
      },
      "outputs": [],
      "source": "// Nivel de instruccion de las afroecuatorianos con un empleo no clasificado\nz.show(empNoclasificado.groupBy(\"nivel_de_instruccion\").count().orderBy(\"nivel_de_instruccion\"))"
    },
    {
      "cell_type": "code",
      "execution_count": 14,
      "metadata": {
        "autoscroll": "auto"
      },
      "outputs": [],
      "source": "// Nivel de instruccion de las afroecuatorianos con un desempleo abierto\nz.show(dempAbierto.groupBy(\"nivel_de_instruccion\").count().orderBy(\"nivel_de_instruccion\"))"
    },
    {
      "cell_type": "code",
      "execution_count": 15,
      "metadata": {
        "autoscroll": "auto"
      },
      "outputs": [],
      "source": "// Nivel de instruccion de las afroecuatorianos con un desempleo oculto\nz.show(dempOculto.groupBy(\"nivel_de_instruccion\").count().orderBy(\"nivel_de_instruccion\"))"
    },
    {
      "cell_type": "code",
      "execution_count": 16,
      "metadata": {
        "autoscroll": "auto"
      },
      "outputs": [],
      "source": "// Sueldo promedio de  afroecuatorianos con empleo no pleno\nz.show(empNopleno.groupBy(\"nivel_de_instruccion\").pivot(\"genero\").agg(round(avg(\"ingreso_laboral\"))).orderBy(\"nivel_de_instruccion\"))"
    },
    {
      "cell_type": "code",
      "execution_count": 17,
      "metadata": {
        "autoscroll": "auto"
      },
      "outputs": [],
      "source": "// Sueldo promedio de afroecuatorianos con desempleo abierto\nz.show(dempAbierto.groupBy(\"nivel_de_instruccion\").pivot(\"genero\").agg(round(avg(\"ingreso_laboral\"))).orderBy(\"nivel_de_instruccion\"))"
    },
    {
      "cell_type": "code",
      "execution_count": 18,
      "metadata": {
        "autoscroll": "auto"
      },
      "outputs": [],
      "source": "// grupo ocupacion afroecuatorianos que tienen un empleo no pleno\nz.show(empNopleno.groupBy(\"grupo_ocupacion\").pivot(\"genero\").count().orderBy(\"grupo_ocupacion\"))"
    },
    {
      "cell_type": "code",
      "execution_count": 19,
      "metadata": {
        "autoscroll": "auto"
      },
      "outputs": [],
      "source": "// grupo ocupacion afroecuatorianos que tienen un empleo no clasificado\nz.show(empNoclasificado.groupBy(\"grupo_ocupacion\").pivot(\"genero\").count().orderBy(\"grupo_ocupacion\"))"
    },
    {
      "cell_type": "code",
      "execution_count": 20,
      "metadata": {
        "autoscroll": "auto"
      },
      "outputs": [],
      "source": "z.show(data.groupBy(\"etnia\").pivot(\"genero\").count.orderBy(\"etnia\"))"
    },
    {
      "cell_type": "code",
      "execution_count": 21,
      "metadata": {
        "autoscroll": "auto"
      },
      "outputs": [],
      "source": "z.show(data.groupBy(\"etnia\").pivot(\"genero\").agg(round(avg(\"edad\")).cast(IntegerType)).orderBy(\"etnia\"))"
    },
    {
      "cell_type": "code",
      "execution_count": 22,
      "metadata": {
        "autoscroll": "auto"
      },
      "outputs": [],
      "source": "z.show(data.groupBy(\"sectorizacion\").pivot(\"anio\").count.orderBy(\"sectorizacion\"))"
    },
    {
      "cell_type": "code",
      "execution_count": 23,
      "metadata": {
        "autoscroll": "auto"
      },
      "outputs": [],
      "source": "z.show(data.groupBy(\"etnia\").pivot(\"anio\").avg(\"ingreso_laboral\").where($\"etnia\".isNotNull)orderBy(\"etnia\"))"
    },
    {
      "cell_type": "code",
      "execution_count": 24,
      "metadata": {
        "autoscroll": "auto"
      },
      "outputs": [],
      "source": "z.show(data.groupBy(\"etnia\").pivot(\"genero\").agg(avg(\"ingreso_laboral\")).orderBy(\"etnia\"))"
    },
    {
      "cell_type": "code",
      "execution_count": 25,
      "metadata": {
        "autoscroll": "auto"
      },
      "outputs": [],
      "source": "z.show(data.where($\"rama_actividad\" \u003d\u003d\u003d \"06 - F. Construcción\").groupBy(\"etnia\").pivot(\"anio\").count.orderBy(\"etnia\"))"
    },
    {
      "cell_type": "code",
      "execution_count": 26,
      "metadata": {
        "autoscroll": "auto"
      },
      "outputs": [],
      "source": "val dataMe \u003d data.where($\"etnia\" \u003d\u003d\u003d \"6 - Mestizo\" || $\"etnia\" \u003d\u003d\u003d \"5 - Montubio\")\nz.show(dataMe.groupBy(\"etnia\").pivot(\"genero\").count.orderBy(\"etnia\"))"
    },
    {
      "cell_type": "code",
      "execution_count": 27,
      "metadata": {
        "autoscroll": "auto"
      },
      "outputs": [],
      "source": "z.show(data.where($\"area\" \u003d\u003d\u003d \"2 - Rural\" \u0026\u0026 $\"nivel_de_instruccion\" \u003d\u003d\u003d \"09 - Superior Universitario\").groupBy(\"etnia\").count.orderBy(\"etnia\"))"
    }
  ]
}
